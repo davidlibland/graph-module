{
 "cells": [
  {
   "cell_type": "markdown",
   "metadata": {},
   "source": [
    "# The Graph Module \n",
    "\n",
    "`graph` is a module (written in python) to effectively manipulate data structured as a graph. The basic unit is the `Graph` class, which stores the data of the graph (both the topology and any properties/labels the nodes and edges might carry), and comes equipped with a minimal but sufficient set of methods which enable any natural graph computation. The full [API](https://davidlibland.github.io/graph-module) can be found at: https://davidlibland.github.io/graph-module"
   ]
  },
  {
   "cell_type": "markdown",
   "metadata": {},
   "source": [
    "In choosing the methods for the `Graph` class, the fundamental design decision we made was that computations should be **local** and **parallel** with respect to the graph structure, so that they could be easily distributed. Thus, the major methods:\n",
    "\n",
    "1. `Graph.new_projection`\n",
    "2. `Graph.new_subgraph`\n",
    "3. `Graph.update_edges`\n",
    "4. `Graph.update_nodes`\n",
    "5. `Graph.send_collect`\n",
    "\n",
    "Each take a node (and/or edge) function, which are then applied in parallel to each node (and/or edge).\n",
    "\n",
    "The first two methods:\n",
    "\n",
    "* `Graph.new_projection`\n",
    "* `Graph.new_subgraph`\n",
    "\n",
    "return new graphs (possibly with new topologies), and leave the previous graph unaltered. The next two methods:\n",
    "* `Graph.update_edges`\n",
    "* `Graph.update_nodes`\n",
    "\n",
    "change the state of the nodes and edges. All of these methods behave in an essentially pointwise manner - they act on each node/edge in isolation of the others.\n",
    "\n",
    "The final method:\n",
    "* `Graph.send_collect`\n",
    "\n",
    "enables local communication within the graph: Edges are given instructions on which messages to *send* to their source and destination nodes, and then nodes are given instructions on how to *collect* and process those messages. Details can be found in the [API](https://davidlibland.github.io/graph-module). \n"
   ]
  },
  {
   "cell_type": "markdown",
   "metadata": {},
   "source": [
    "Finally, there are methods to add new nodes and edges (`Graph.add_nodes`, and `Graph.add_edges`), and methods which allow one to query the graph data in a structurally relevant way (`Graph.nodes` and `Graph.find`)."
   ]
  },
  {
   "cell_type": "markdown",
   "metadata": {},
   "source": [
    "## Examples:"
   ]
  },
  {
   "cell_type": "code",
   "execution_count": 1,
   "metadata": {
    "collapsed": false
   },
   "outputs": [],
   "source": [
    "from graph import Graph"
   ]
  },
  {
   "cell_type": "markdown",
   "metadata": {},
   "source": [
    "First we create a new graph. Edges are represented as triples:\n",
    "\n",
    "(source node object, destination node object, edge label object)\n",
    "\n",
    "for instance `('A','B',1)` indicates an edge from `'A'` to `'B'`, labeled by `1`."
   ]
  },
  {
   "cell_type": "code",
   "execution_count": 24,
   "metadata": {
    "collapsed": false
   },
   "outputs": [
    {
     "data": {
      "text/plain": [
       "Nodes:\n",
       "    1 'D'\n",
       "    2 'E'\n",
       "    3 'A'\n",
       "    4 'C'\n",
       "    5 'B'\n",
       "\n",
       "Edges:\n",
       "     Source Node              Edge Object              Destination Node\n",
       "    1'A'                      1.0                      'B'                     \n",
       "    2'A'                      2.0                      'C'                     \n",
       "    3'B'                      2.0                      'C'                     \n",
       "    4'C'                      1.0                      'D'                     \n",
       "    5'D'                      3.0                      'A'                     "
      ]
     },
     "execution_count": 24,
     "metadata": {},
     "output_type": "execute_result"
    }
   ],
   "source": [
    "g = Graph(edges = [('A','B',1),('A','C',2),\n",
    "                   ('B','C',2),('C','D',1),('D','A',3)],\n",
    "          nodes = {'E'})\n",
    "g"
   ]
  },
  {
   "cell_type": "markdown",
   "metadata": {},
   "source": [
    "`g` would look like this:\n",
    "![](imgs/graph1.png)"
   ]
  },
  {
   "cell_type": "markdown",
   "metadata": {},
   "source": [
    "We could then query the graph, looking for cyclic love triangles:"
   ]
  },
  {
   "cell_type": "code",
   "execution_count": 3,
   "metadata": {
    "collapsed": false
   },
   "outputs": [
    {
     "data": {
      "text/html": [
       "<div>\n",
       "<table border=\"1\" class=\"dataframe\">\n",
       "  <thead>\n",
       "    <tr style=\"text-align: right;\">\n",
       "      <th></th>\n",
       "      <th>(x)</th>\n",
       "      <th>(y)</th>\n",
       "      <th>(z)</th>\n",
       "    </tr>\n",
       "  </thead>\n",
       "  <tbody>\n",
       "    <tr>\n",
       "      <th>0</th>\n",
       "      <td>A</td>\n",
       "      <td>C</td>\n",
       "      <td>D</td>\n",
       "    </tr>\n",
       "    <tr>\n",
       "      <th>1</th>\n",
       "      <td>C</td>\n",
       "      <td>D</td>\n",
       "      <td>A</td>\n",
       "    </tr>\n",
       "    <tr>\n",
       "      <th>2</th>\n",
       "      <td>D</td>\n",
       "      <td>A</td>\n",
       "      <td>C</td>\n",
       "    </tr>\n",
       "  </tbody>\n",
       "</table>\n",
       "</div>"
      ],
      "text/plain": [
       "  (x) (y) (z)\n",
       "0   A   C   D\n",
       "1   C   D   A\n",
       "2   D   A   C"
      ]
     },
     "execution_count": 3,
     "metadata": {},
     "output_type": "execute_result"
    }
   ],
   "source": [
    "g.find('(x)-[]->(y); (y)-[]->(z); (z)-[]->(x)')"
   ]
  },
  {
   "cell_type": "markdown",
   "metadata": {},
   "source": [
    "There are three of them (up to rotation), but there is only one directed love triangle:"
   ]
  },
  {
   "cell_type": "code",
   "execution_count": 4,
   "metadata": {
    "collapsed": false
   },
   "outputs": [
    {
     "data": {
      "text/html": [
       "<div>\n",
       "<table border=\"1\" class=\"dataframe\">\n",
       "  <thead>\n",
       "    <tr style=\"text-align: right;\">\n",
       "      <th></th>\n",
       "      <th>(x)</th>\n",
       "      <th>(y)</th>\n",
       "      <th>(z)</th>\n",
       "    </tr>\n",
       "  </thead>\n",
       "  <tbody>\n",
       "    <tr>\n",
       "      <th>0</th>\n",
       "      <td>A</td>\n",
       "      <td>B</td>\n",
       "      <td>C</td>\n",
       "    </tr>\n",
       "  </tbody>\n",
       "</table>\n",
       "</div>"
      ],
      "text/plain": [
       "  (x) (y) (z)\n",
       "0   A   B   C"
      ]
     },
     "execution_count": 4,
     "metadata": {},
     "output_type": "execute_result"
    }
   ],
   "source": [
    "g.find('(x)-[]->(y); (y)-[]->(z); (x)-[]->(z)')"
   ]
  },
  {
   "cell_type": "markdown",
   "metadata": {},
   "source": [
    "## Graph Algorithm Examples"
   ]
  },
  {
   "cell_type": "markdown",
   "metadata": {},
   "source": [
    "More complicated algorithms will require the nodes edge objects to communicate with each other and react accordingly (and often record intermediate states). In particular, the objects attached to the nodes and edges cannot be immutable. The module provides a convenient dict-like class to wrap over any object (the `GraphLabel` class) but it isn't necessary to use it."
   ]
  },
  {
   "cell_type": "code",
   "execution_count": 5,
   "metadata": {
    "collapsed": true
   },
   "outputs": [],
   "source": [
    "from graph.algorithms import GraphLabel"
   ]
  },
  {
   "cell_type": "markdown",
   "metadata": {},
   "source": [
    "We can wrap all the node and edge objects in our previous graph using the `new_projection` method."
   ]
  },
  {
   "cell_type": "code",
   "execution_count": 6,
   "metadata": {
    "collapsed": false
   },
   "outputs": [
    {
     "data": {
      "text/plain": [
       "Nodes:\n",
       "    1 'A' : {'data': 'A'}\n",
       "    2 'E' : {'data': 'E'}\n",
       "    3 'D' : {'data': 'D'}\n",
       "    4 'C' : {'data': 'C'}\n",
       "    5 'B' : {'data': 'B'}\n",
       "\n",
       "Edges:\n",
       "     Source Node              Edge Object              Destination Node\n",
       "    1'A' : {'data': 'A'}      '1.0' : {'data': 1.0}    'B' : {'data': 'B'}     \n",
       "    2'A' : {'data': 'A'}      '1.0' : {'data': 1.0}    'C' : {'data': 'C'}     \n",
       "    3'B' : {'data': 'B'}      '2.0' : {'data': 2.0}    'C' : {'data': 'C'}     \n",
       "    4'C' : {'data': 'C'}      '2.0' : {'data': 2.0}    'D' : {'data': 'D'}     \n",
       "    5'D' : {'data': 'D'}      '3.0' : {'data': 3.0}    'A' : {'data': 'A'}     "
      ]
     },
     "execution_count": 6,
     "metadata": {},
     "output_type": "execute_result"
    }
   ],
   "source": [
    "g_mutable = g.new_projection(GraphLabel.edge_wrapper,GraphLabel.node_wrapper)\n",
    "g_mutable"
   ]
  },
  {
   "cell_type": "markdown",
   "metadata": {},
   "source": [
    "Let's write a simple algorithm, `out_degree` which counts the number of edges leaving each node, and stores the result as an attribute for the node:"
   ]
  },
  {
   "cell_type": "code",
   "execution_count": 7,
   "metadata": {
    "collapsed": false
   },
   "outputs": [],
   "source": [
    "def out_degree(g):\n",
    "    # Each edge emits a non-empty message to the source node (and an empty message to the destination node)\n",
    "    def emitter(src,dst,e):\n",
    "        return [1],[]\n",
    "    \n",
    "    # Each node collects all the messages it receives and counts them, the result is the number of outgoing edges.\n",
    "    def collector(node,msgs):\n",
    "        node['out_degree'] = len(list(msgs))\n",
    "    \n",
    "    g.send_collect(emitter,collector)"
   ]
  },
  {
   "cell_type": "code",
   "execution_count": 8,
   "metadata": {
    "collapsed": false
   },
   "outputs": [
    {
     "data": {
      "text/plain": [
       "Nodes:\n",
       "    1 'A' : {'data': 'A', 'out_degree': 2}\n",
       "    2 'E' : {'data': 'E', 'out_degree': 0}\n",
       "    3 'D' : {'data': 'D', 'out_degree': 1}\n",
       "    4 'C' : {'data': 'C', 'out_degree': 1}\n",
       "    5 'B' : {'data': 'B', 'out_degree': 1}\n",
       "\n",
       "Edges:\n",
       "     Source Node              Edge Object              Destination Node\n",
       "    1'A' : {'data': 'A',  ...  '1.0' : {'data': 1.0}    'B' : {'data': 'B',  ... \n",
       "    2'A' : {'data': 'A',  ...  '1.0' : {'data': 1.0}    'C' : {'data': 'C',  ... \n",
       "    3'B' : {'data': 'B',  ...  '2.0' : {'data': 2.0}    'C' : {'data': 'C',  ... \n",
       "    4'C' : {'data': 'C',  ...  '2.0' : {'data': 2.0}    'D' : {'data': 'D',  ... \n",
       "    5'D' : {'data': 'D',  ...  '3.0' : {'data': 3.0}    'A' : {'data': 'A',  ... "
      ]
     },
     "execution_count": 8,
     "metadata": {},
     "output_type": "execute_result"
    }
   ],
   "source": [
    "out_degree(g_mutable)\n",
    "g_mutable"
   ]
  },
  {
   "cell_type": "markdown",
   "metadata": {},
   "source": [
    "## Page Rank"
   ]
  },
  {
   "cell_type": "markdown",
   "metadata": {},
   "source": [
    "We now write a slightly more complicated algorithm, PageRank:"
   ]
  },
  {
   "cell_type": "code",
   "execution_count": 9,
   "metadata": {
    "collapsed": true
   },
   "outputs": [],
   "source": [
    "def page_rank(g,reset_prob,threshold=0.001):\n",
    "    if not (reset_prob >= 0  and reset_prob <=1):\n",
    "        raise ValueError('We require 0 <= reset_prob <= 1')\n",
    "        \n",
    "    if not threshold > 0:\n",
    "        raise ValueError('We require 0 < threshold')\n",
    "        \n",
    "    #Initialize the nodes and edges:\n",
    "    out_degree(g) # make sure each node knows it's out_degree\n",
    "    \n",
    "    #Each node starts the algorithm with a PageRank of 1.\n",
    "    def init_node(node):\n",
    "        node['page_rank'] = 1.\n",
    "        node['halt'] = False\n",
    "    g.update_nodes(init_node)\n",
    "    \n",
    "    #Each edge remember the proportion of the traffic if carries out of it's source:\n",
    "    def init_edge(src,dst,e):\n",
    "        e['traffic_prop'] = 1./src['out_degree']\n",
    "    g.update_edges(init_edge)\n",
    "    \n",
    "    #The emitter sends the relevant proportion of the \n",
    "    #source node's page_rank along each edge:\n",
    "    def emitter(src,dst,e):\n",
    "        return [],[src['page_rank']*e['traffic_prop']]\n",
    "        \n",
    "    \n",
    "\n",
    "    #Dangling nodes (nodes with out_degree==0) cannot transmit it's current page_rank\n",
    "    #along any outgoing edges, so we need to collect their current page_ranks centrally\n",
    "    #and redistibute them equally amongst all nodes.\n",
    "    num_nodes = sum(1 for node in g.nodes())\n",
    "    \n",
    "    node_pred = lambda node : node['out_degree']==0\n",
    "    dangling_nodes = g.new_subgraph(node_pred=node_pred).nodes()\n",
    "    \n",
    "    def page_rank_collector(node,incoming_ranks,avg_dangle_rank):\n",
    "        old_rank = node['page_rank']\n",
    "        node['page_rank'] = (1-reset_prob)*(sum(incoming_ranks)+avg_dangle_rank)+reset_prob  \n",
    "        if abs(old_rank - node['page_rank']) < threshold:\n",
    "            node['halt']=True\n",
    "        else:\n",
    "            node['halt']=False\n",
    "    \n",
    "    while sum( 1 for node in g.nodes() if not node['halt']) > 0:\n",
    "        avg_dangle_rank = sum(node['page_rank'] for node in dangling_nodes)/num_nodes\n",
    "        collector = lambda node,msgs: page_rank_collector(node,msgs,avg_dangle_rank)\n",
    "        g.send_collect(emitter,collector)"
   ]
  },
  {
   "cell_type": "markdown",
   "metadata": {},
   "source": [
    "Let's compute it on the graph `g_mutable`"
   ]
  },
  {
   "cell_type": "code",
   "execution_count": 19,
   "metadata": {
    "collapsed": false
   },
   "outputs": [
    {
     "name": "stdout",
     "output_type": "stream",
     "text": [
      "Node:     PageRank:\n",
      "A         1.3332985925934921\n",
      "E         0.18072289156626506\n",
      "D         1.355970523917598\n",
      "C         1.3826372423498343\n",
      "B         0.7473707495728084\n"
     ]
    }
   ],
   "source": [
    "page_rank(g_mutable,0.15)\n",
    "\n",
    "#Print the output:\n",
    "print('Node:     PageRank:')\n",
    "for node in g_mutable.nodes():\n",
    "    print(\"{:<10}\".format(node.name) + str(node['page_rank']))"
   ]
  },
  {
   "cell_type": "markdown",
   "metadata": {},
   "source": [
    "We can visualize it as:\n",
    "![](imgs/page_rank.png)"
   ]
  },
  {
   "cell_type": "markdown",
   "metadata": {},
   "source": [
    "## Discussion"
   ]
  },
  {
   "cell_type": "markdown",
   "metadata": {},
   "source": [
    "#### Page Rank"
   ]
  },
  {
   "cell_type": "markdown",
   "metadata": {},
   "source": [
    "The are various ways in which PageRank (or variants of it), might be useful to Human Dx. As some examples, one could use a variants of it\n",
    "* to recommend cases to experts \n",
    "* to recommend paedogogically relevant cases to students\n",
    "* given a subset of information about a case, it could be used to try and predict which pieces of information (test results/family history) experts are most likely to inquire about next. I.e. what indicators are seen as most relevant to a diagnosis.\n",
    "* to predict potential links between symptoms and conditions (given a sparse graph of known links)\n"
   ]
  },
  {
   "cell_type": "markdown",
   "metadata": {},
   "source": [
    "#### Scalability of the Graph API"
   ]
  },
  {
   "cell_type": "markdown",
   "metadata": {},
   "source": [
    "The API itself is relatively scalable; but one would need to use scalable data structures. Some thoughts:\n",
    "* To facilitate partitioning the data and parallelizing the computations, all node objects should be of the same class, and similarily, all edge objects should be of the same class.\n",
    "* It could save space and computational resources if the computations in a graph algorithm were executed in a lazy manner: Nodes and edges will collect a list of instructions (send, process, and update requests), but only the instructions relevant to the query will be executed."
   ]
  },
  {
   "cell_type": "markdown",
   "metadata": {},
   "source": [
    "#### Further discussion"
   ]
  },
  {
   "cell_type": "markdown",
   "metadata": {},
   "source": [
    "**Undirected graphs**\n",
    "* We don't implement undirected graphs directly. However, the graph methods do not inherantly treat the source or destination nodes any differently, so undirected graph algorithms can be written easily. For example the following algorithm computes the connected components of the (directionless) graph:"
   ]
  },
  {
   "cell_type": "code",
   "execution_count": 21,
   "metadata": {
    "collapsed": true
   },
   "outputs": [],
   "source": [
    "def connected_comp(g):\n",
    "    # We initialize each node by setting node['cc'] to it's own id.\n",
    "    def init_node(node):\n",
    "        node['cc'] = node.name+\" id:\"+str(id(node))\n",
    "        node['halt'] = True\n",
    "    g.update_nodes(init_node) #Initialize vertices \n",
    "    \n",
    "    # Each edge sends messages to both nodes informing them of the value of each other's node['cc']\n",
    "    def emitter(src,dst,e):\n",
    "        return [dst['cc']],[src['cc']]\n",
    "\n",
    "    # The node sets node['cc'] to the smallest value received from it's neighbors.\n",
    "    def collector(node,msg_iter):\n",
    "        node['halt'] = True\n",
    "        for near_cc in msg_iter:\n",
    "            if near_cc < node['cc']:\n",
    "                node['cc'] = near_cc\n",
    "                node['halt'] = False\n",
    "    \n",
    "    g.send_collect(emitter,collector)\n",
    "    while sum( 1 for node in g.nodes() if not node['halt'])>0:\n",
    "        g.send_collect(emitter,collector)"
   ]
  },
  {
   "cell_type": "code",
   "execution_count": 25,
   "metadata": {
    "collapsed": false
   },
   "outputs": [
    {
     "name": "stdout",
     "output_type": "stream",
     "text": [
      "Node:     Component:\n",
      "A         A id:4491870728\n",
      "E         E id:4491872408\n",
      "D         A id:4491870728\n",
      "C         A id:4491870728\n",
      "B         A id:4491870728\n"
     ]
    }
   ],
   "source": [
    "connected_comp(g_mutable)\n",
    "\n",
    "#Print the output:\n",
    "print('Node:     Component:')\n",
    "for node in g_mutable.nodes():\n",
    "    print(\"{:<10}\".format(node.name) + str(node['cc']))"
   ]
  },
  {
   "cell_type": "markdown",
   "metadata": {},
   "source": [
    "**Additional Algorithms**\n",
    "There are relatively good distributed algorithms for Breadth First Search, shortest path, span, various notions of centrality, and variations of clustering, among others. All of these can be implemented using the API. On the other hand, some basic graph algorithms such as Depth First Search are inherently sequential, and cannot be implemented in a distributed way."
   ]
  },
  {
   "cell_type": "code",
   "execution_count": null,
   "metadata": {
    "collapsed": true
   },
   "outputs": [],
   "source": []
  }
 ],
 "metadata": {
  "kernelspec": {
   "display_name": "Python 3",
   "language": "python",
   "name": "python3"
  },
  "language_info": {
   "codemirror_mode": {
    "name": "ipython",
    "version": 3
   },
   "file_extension": ".py",
   "mimetype": "text/x-python",
   "name": "python",
   "nbconvert_exporter": "python",
   "pygments_lexer": "ipython3",
   "version": "3.5.1"
  }
 },
 "nbformat": 4,
 "nbformat_minor": 0
}
